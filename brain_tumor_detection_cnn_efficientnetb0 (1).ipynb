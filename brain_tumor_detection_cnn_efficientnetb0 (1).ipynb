{
  "cells": [
    {
      "cell_type": "markdown",
      "source": [
        "**Introduction:**\n",
        "\n",
        "In the realm of deep learning, image classification stands as one of the foundational pillars, serving as the bedrock for myriad applications from facial recognition to medical imaging. At the heart of this domain is the Convolutional Neural Network (CNN) - a specialized kind of neural network designed explicitly for recognizing patterns and structures in images. CNNs achieve this by automatically and adaptively learning spatial hierarchies of features from images.\n",
        "\n",
        "The project at hand delves deep into this fascinating world of CNNs. Starting with the rudimentary layers of designing a basic CNN model, the journey evolves to explore the more advanced nuances of transfer learning, particularly employing the EfficientNetB0 model. While the initial steps provide a grasp of the principles of CNN and its performance metrics, the latter stages underscore the transformative potential of transfer learning, especially when constrained by data limitations or desiring superior performance metrics.\n",
        "\n",
        "This project aims not just to showcase the technicalities but also to emphasize the real-world implications of these models. As we navigate through the layers and epochs, remember that each convolution, each neuron firing is a step closer to making machines see and understand the world a tad bit better."
      ],
      "metadata": {
        "id": "n9sNm-R1PNOb"
      },
      "id": "n9sNm-R1PNOb"
    },
    {
      "cell_type": "markdown",
      "id": "febc1b43",
      "metadata": {
        "papermill": {
          "duration": 0.005962,
          "end_time": "2023-01-10T14:21:03.419786",
          "exception": false,
          "start_time": "2023-01-10T14:21:03.413824",
          "status": "completed"
        },
        "tags": [],
        "id": "febc1b43"
      },
      "source": [
        "<div class=\"alert alert-info\">\n",
        "    <h3>Version Updates</h3>\n",
        "    <ul>\n",
        "        <li>Train Test Split for better Evaluation</li>\n",
        "        <li><b>Transfer Learning</b> with EfficinetNetB0</li>\n",
        "    </ul>\n",
        "    \n",
        "</div>"
      ]
    },
    {
      "cell_type": "markdown",
      "id": "5dbcfd35",
      "metadata": {
        "papermill": {
          "duration": 0.004473,
          "end_time": "2023-01-10T14:21:03.429149",
          "exception": false,
          "start_time": "2023-01-10T14:21:03.424676",
          "status": "completed"
        },
        "tags": [],
        "id": "5dbcfd35"
      },
      "source": [
        "## Setup"
      ]
    },
    {
      "cell_type": "code",
      "execution_count": null,
      "id": "0cd3f44d",
      "metadata": {
        "_cell_guid": "b1076dfc-b9ad-4769-8c92-a6c4dae69d19",
        "_uuid": "8f2839f25d086af736a60e9eeb907d3b93b6e0e5",
        "execution": {
          "iopub.execute_input": "2023-01-10T14:21:03.440581Z",
          "iopub.status.busy": "2023-01-10T14:21:03.440063Z",
          "iopub.status.idle": "2023-01-10T14:21:09.860957Z",
          "shell.execute_reply": "2023-01-10T14:21:09.859966Z"
        },
        "papermill": {
          "duration": 6.429703,
          "end_time": "2023-01-10T14:21:09.863520",
          "exception": false,
          "start_time": "2023-01-10T14:21:03.433817",
          "status": "completed"
        },
        "tags": [],
        "id": "0cd3f44d"
      },
      "outputs": [],
      "source": [
        "import pandas as pd\n",
        "import numpy as np\n",
        "import cv2\n",
        "import os\n",
        "import random\n",
        "import matplotlib.pyplot as plt\n",
        "import seaborn as sns\n",
        "\n",
        "import tensorflow as tf\n",
        "import tensorflow_hub as hub\n",
        "os.environ['TF_CPP_MIN_LOG_LEVEL'] = '3'\n",
        "\n",
        "from keras.models import Sequential\n",
        "from keras.layers import Dense, Flatten, Conv2D, MaxPool2D\n",
        "from keras.layers import Input, Activation, LeakyReLU, Dropout\n",
        "from keras.losses import BinaryCrossentropy\n",
        "try:\n",
        "    from keras.optimizer import Adam\n",
        "except:\n",
        "    from tensorflow.keras.optimizers import Adam\n",
        "\n",
        "from tensorflow.keras.callbacks import TensorBoard\n",
        "from tensorflow.keras.preprocessing.image import ImageDataGenerator\n",
        "\n",
        "from sklearn.metrics import classification_report, confusion_matrix"
      ]
    },
    {
      "cell_type": "markdown",
      "id": "dac4bccf",
      "metadata": {
        "papermill": {
          "duration": 0.004635,
          "end_time": "2023-01-10T14:21:09.873139",
          "exception": false,
          "start_time": "2023-01-10T14:21:09.868504",
          "status": "completed"
        },
        "tags": [],
        "id": "dac4bccf"
      },
      "source": [
        "## About Brain Tumor\n",
        "\n",
        "A brain tumor is a collection, or mass, of abnormal cells in your brain. Your skull, which encloses your brain, is very rigid. Any growth inside such a restricted space can cause problems.\n",
        "\n",
        "Brain tumors can be cancerous (malignant) or noncancerous (benign). When benign or malignant tumors grow, they can cause the pressure inside your skull to increase. This can cause brain damage, and it can be life-threatening.\n",
        "\n",
        "<p align=\"center\">\n",
        "<img src=\"https://i0.wp.com/post.healthline.com/wp-content/uploads/2022/02/2009199_Understanding-Brain-Tumors-01.jpg?w=1155&h=1887\" style=\"width: 725px; height: 500px\"/>\n",
        "</p>\n",
        "<br>\n",
        "\n",
        "### **How is Brain Tumor diagnosed?**\n",
        "\n",
        "<img src=\"https://qph.cf2.quoracdn.net/main-qimg-3cd4287f29cd7fdc7f68ab223107bb64-pjlq\">\n",
        "\n",
        "### **Magnetic resonance imaging (MRI)**\n",
        "An MRI uses magnetic fields to produce detailed images of the body. MRI can be used to measure the tumor’s size. A special dye called a contrast medium is given before the scan to create a clearer picture. This dye can be injected into a patient’s vein or given as a pill or liquid to swallow. MRIs create more detailed pictures than CT scans (see below) and are the preferred way to diagnose a brain tumor. The MRI may be of the brain, spinal cord, or both, depending on the type of tumor suspected and the likelihood that it will spread in the CNS. There are different types of MRI. The results of a neuro-examination, done by the internist or neurologist, helps determine which type of MRI to use.\n",
        "\n",
        "Here we have 253 samples of Brain MRI images, 98 of which show no tumor and 155 show brain tumor. Using a Convolutional Neural Network, we try to **classify whether the sample shows tumor or not**\n"
      ]
    },
    {
      "cell_type": "code",
      "execution_count": null,
      "id": "8481bd32",
      "metadata": {
        "execution": {
          "iopub.execute_input": "2023-01-10T14:21:09.884479Z",
          "iopub.status.busy": "2023-01-10T14:21:09.883825Z",
          "iopub.status.idle": "2023-01-10T14:21:09.888819Z",
          "shell.execute_reply": "2023-01-10T14:21:09.887905Z"
        },
        "papermill": {
          "duration": 0.012866,
          "end_time": "2023-01-10T14:21:09.890786",
          "exception": false,
          "start_time": "2023-01-10T14:21:09.877920",
          "status": "completed"
        },
        "tags": [],
        "id": "8481bd32"
      },
      "outputs": [],
      "source": [
        "import warnings\n",
        "warnings.filterwarnings('ignore')\n",
        "\n",
        "MAIN_DIR = \"/kaggle/input/brain-mri-images-for-brain-tumor-detection/brain_tumor_dataset/\"\n",
        "SEED = 40"
      ]
    },
    {
      "cell_type": "markdown",
      "id": "47e9cf30",
      "metadata": {
        "papermill": {
          "duration": 0.004743,
          "end_time": "2023-01-10T14:21:09.900568",
          "exception": false,
          "start_time": "2023-01-10T14:21:09.895825",
          "status": "completed"
        },
        "tags": [],
        "id": "47e9cf30"
      },
      "source": [
        "## Preparing the Image Data"
      ]
    },
    {
      "cell_type": "code",
      "execution_count": null,
      "id": "1870eccf",
      "metadata": {
        "execution": {
          "iopub.execute_input": "2023-01-10T14:21:09.912111Z",
          "iopub.status.busy": "2023-01-10T14:21:09.911183Z",
          "iopub.status.idle": "2023-01-10T14:21:09.925034Z",
          "shell.execute_reply": "2023-01-10T14:21:09.924096Z"
        },
        "papermill": {
          "duration": 0.021711,
          "end_time": "2023-01-10T14:21:09.927049",
          "exception": false,
          "start_time": "2023-01-10T14:21:09.905338",
          "status": "completed"
        },
        "tags": [],
        "id": "1870eccf",
        "outputId": "e1cfaf4c-f5b3-4ec3-d40a-99cbc5481316"
      },
      "outputs": [
        {
          "data": {
            "text/plain": [
              "['no', 'yes']"
            ]
          },
          "execution_count": 3,
          "metadata": {},
          "output_type": "execute_result"
        }
      ],
      "source": [
        "os.listdir(MAIN_DIR)"
      ]
    },
    {
      "cell_type": "code",
      "execution_count": null,
      "id": "080bebbe",
      "metadata": {
        "execution": {
          "iopub.execute_input": "2023-01-10T14:21:09.937973Z",
          "iopub.status.busy": "2023-01-10T14:21:09.937662Z",
          "iopub.status.idle": "2023-01-10T14:21:10.010724Z",
          "shell.execute_reply": "2023-01-10T14:21:10.009398Z"
        },
        "papermill": {
          "duration": 0.081484,
          "end_time": "2023-01-10T14:21:10.013500",
          "exception": false,
          "start_time": "2023-01-10T14:21:09.932016",
          "status": "completed"
        },
        "tags": [],
        "id": "080bebbe",
        "outputId": "2f9d1939-3989-4c14-fbcb-750e8cfad4de"
      },
      "outputs": [
        {
          "name": "stdout",
          "output_type": "stream",
          "text": [
            "2 directories and 0 images in /kaggle/input/brain-mri-images-for-brain-tumor-detection/brain_tumor_dataset/\n",
            "0 directories and 98 images in /kaggle/input/brain-mri-images-for-brain-tumor-detection/brain_tumor_dataset/no\n",
            "0 directories and 155 images in /kaggle/input/brain-mri-images-for-brain-tumor-detection/brain_tumor_dataset/yes\n"
          ]
        }
      ],
      "source": [
        "for dirpath,dirnames,filenames in os.walk(MAIN_DIR):\n",
        "    print(f\"{len(dirnames)} directories and {len(filenames)} images in {dirpath}\")"
      ]
    },
    {
      "cell_type": "code",
      "execution_count": null,
      "id": "2506c7e7",
      "metadata": {
        "execution": {
          "iopub.execute_input": "2023-01-10T14:21:10.026253Z",
          "iopub.status.busy": "2023-01-10T14:21:10.025270Z",
          "iopub.status.idle": "2023-01-10T14:21:10.031711Z",
          "shell.execute_reply": "2023-01-10T14:21:10.030867Z"
        },
        "papermill": {
          "duration": 0.01432,
          "end_time": "2023-01-10T14:21:10.033649",
          "exception": false,
          "start_time": "2023-01-10T14:21:10.019329",
          "status": "completed"
        },
        "tags": [],
        "id": "2506c7e7"
      },
      "outputs": [],
      "source": [
        "# Inspect the raw data before preprocessing\n",
        "def view_random_image():\n",
        "\n",
        "    subdirs = ['yes/','no/']\n",
        "    subdir = np.random.choice(subdirs)\n",
        "    target_folder = MAIN_DIR + subdir\n",
        "\n",
        "    random_image = random.sample(os.listdir(target_folder), 1)\n",
        "\n",
        "    img = cv2.imread(target_folder+random_image[0])\n",
        "    plt.imshow(img, cmap=\"gray\")\n",
        "    plt.axis(False)\n",
        "    plt.title(img.shape)\n",
        "    plt.show()"
      ]
    },
    {
      "cell_type": "code",
      "execution_count": null,
      "id": "af890ead",
      "metadata": {
        "execution": {
          "iopub.execute_input": "2023-01-10T14:21:10.045124Z",
          "iopub.status.busy": "2023-01-10T14:21:10.044464Z",
          "iopub.status.idle": "2023-01-10T14:21:10.232021Z",
          "shell.execute_reply": "2023-01-10T14:21:10.230919Z"
        },
        "papermill": {
          "duration": 0.195694,
          "end_time": "2023-01-10T14:21:10.234232",
          "exception": false,
          "start_time": "2023-01-10T14:21:10.038538",
          "status": "completed"
        },
        "tags": [],
        "id": "af890ead",
        "outputId": "5a7ed0f7-0817-40d6-a5c5-44d8b342ff2a"
      },
      "outputs": [
        {
          "data": {
            "image/png": "[encoded data removed]",
            "text/plain": [
              "<Figure size 432x288 with 1 Axes>"
            ]
          },
          "metadata": {
            "needs_background": "light"
          },
          "output_type": "display_data"
        }
      ],
      "source": [
        "# View Random Image\n",
        "view_random_image()"
      ]
    },
    {
      "cell_type": "markdown",
      "id": "b72735e2",
      "metadata": {
        "papermill": {
          "duration": 0.005487,
          "end_time": "2023-01-10T14:21:10.246394",
          "exception": false,
          "start_time": "2023-01-10T14:21:10.240907",
          "status": "completed"
        },
        "tags": [],
        "id": "b72735e2"
      },
      "source": [
        "# Image Data Generator"
      ]
    },
    {
      "cell_type": "code",
      "execution_count": null,
      "id": "e5817598",
      "metadata": {
        "execution": {
          "iopub.execute_input": "2023-01-10T14:21:10.260195Z",
          "iopub.status.busy": "2023-01-10T14:21:10.259545Z",
          "iopub.status.idle": "2023-01-10T14:21:10.264805Z",
          "shell.execute_reply": "2023-01-10T14:21:10.263968Z"
        },
        "papermill": {
          "duration": 0.014898,
          "end_time": "2023-01-10T14:21:10.266880",
          "exception": false,
          "start_time": "2023-01-10T14:21:10.251982",
          "status": "completed"
        },
        "tags": [],
        "id": "e5817598"
      },
      "outputs": [],
      "source": [
        "IMG_SHAPE = (128,128)\n",
        "BATCH_SIZE = 32"
      ]
    },
    {
      "cell_type": "code",
      "execution_count": null,
      "id": "5f045447",
      "metadata": {
        "execution": {
          "iopub.execute_input": "2023-01-10T14:21:10.279772Z",
          "iopub.status.busy": "2023-01-10T14:21:10.279071Z",
          "iopub.status.idle": "2023-01-10T14:21:10.491810Z",
          "shell.execute_reply": "2023-01-10T14:21:10.490720Z"
        },
        "papermill": {
          "duration": 0.221863,
          "end_time": "2023-01-10T14:21:10.494452",
          "exception": false,
          "start_time": "2023-01-10T14:21:10.272589",
          "status": "completed"
        },
        "tags": [],
        "id": "5f045447",
        "outputId": "cc5fb74e-2f74-4399-a255-ec921698e4bd"
      },
      "outputs": [
        {
          "name": "stdout",
          "output_type": "stream",
          "text": [
            "Found 127 images belonging to 2 classes.\n",
            "Found 126 images belonging to 2 classes.\n"
          ]
        }
      ],
      "source": [
        "datagen = ImageDataGenerator(rescale=1/255.,\n",
        "                             validation_split=0.5)\n",
        "train_data = datagen.flow_from_directory(MAIN_DIR,\n",
        "                                        target_size=IMG_SHAPE,\n",
        "                                        batch_size=BATCH_SIZE,\n",
        "                                        class_mode=\"binary\",\n",
        "                                        shuffle=True,\n",
        "                                        subset=\"training\")\n",
        "\n",
        "test_data = datagen.flow_from_directory(MAIN_DIR,\n",
        "                                       target_size=IMG_SHAPE,\n",
        "                                       batch_size=BATCH_SIZE,\n",
        "                                       class_mode=\"binary\",\n",
        "                                       shuffle=True,\n",
        "                                       subset=\"validation\")"
      ]
    },
    {
      "cell_type": "markdown",
      "source": [
        "The code prepares an image processing pipeline using Keras' ImageDataGenerator, allocating 127 MRI images for training and 126 for validation, ensuring a balanced dataset for model evaluation."
      ],
      "metadata": {
        "id": "y7GKOqS1YqdZ"
      },
      "id": "y7GKOqS1YqdZ"
    },
    {
      "cell_type": "code",
      "execution_count": null,
      "id": "664c5ff7",
      "metadata": {
        "execution": {
          "iopub.execute_input": "2023-01-10T14:21:10.508387Z",
          "iopub.status.busy": "2023-01-10T14:21:10.507526Z",
          "iopub.status.idle": "2023-01-10T14:21:10.514086Z",
          "shell.execute_reply": "2023-01-10T14:21:10.513133Z"
        },
        "papermill": {
          "duration": 0.015799,
          "end_time": "2023-01-10T14:21:10.516678",
          "exception": false,
          "start_time": "2023-01-10T14:21:10.500879",
          "status": "completed"
        },
        "tags": [],
        "id": "664c5ff7",
        "outputId": "881df198-909f-4045-c31c-37d58e5ab89a"
      },
      "outputs": [
        {
          "data": {
            "text/plain": [
              "(4, 4)"
            ]
          },
          "execution_count": 9,
          "metadata": {},
          "output_type": "execute_result"
        }
      ],
      "source": [
        "len(train_data), len(test_data)"
      ]
    },
    {
      "cell_type": "markdown",
      "source": [
        "The training and validation datasets are divided into 4 batches each for processing in the neural network."
      ],
      "metadata": {
        "id": "w4-6i4BocjUU"
      },
      "id": "w4-6i4BocjUU"
    },
    {
      "cell_type": "markdown",
      "id": "67efa7a5",
      "metadata": {
        "papermill": {
          "duration": 0.005438,
          "end_time": "2023-01-10T14:21:10.527821",
          "exception": false,
          "start_time": "2023-01-10T14:21:10.522383",
          "status": "completed"
        },
        "tags": [],
        "id": "67efa7a5"
      },
      "source": [
        "# Convolutional Neural Network"
      ]
    },
    {
      "cell_type": "code",
      "execution_count": null,
      "id": "bd6fa695",
      "metadata": {
        "execution": {
          "iopub.execute_input": "2023-01-10T14:21:10.540656Z",
          "iopub.status.busy": "2023-01-10T14:21:10.539887Z",
          "iopub.status.idle": "2023-01-10T14:21:32.058139Z",
          "shell.execute_reply": "2023-01-10T14:21:32.057007Z"
        },
        "papermill": {
          "duration": 21.527595,
          "end_time": "2023-01-10T14:21:32.060990",
          "exception": false,
          "start_time": "2023-01-10T14:21:10.533395",
          "status": "completed"
        },
        "tags": [],
        "id": "bd6fa695",
        "outputId": "7df5043a-c25b-4cb9-a346-1afd21a1038f"
      },
      "outputs": [
        {
          "name": "stdout",
          "output_type": "stream",
          "text": [
            "Epoch 1/10\n",
            "4/4 [==============================] - 3s 606ms/step - loss: 0.6511 - accuracy: 0.5984 - val_loss: 0.5646 - val_accuracy: 0.7063\n",
            "Epoch 2/10\n",
            "4/4 [==============================] - 1s 357ms/step - loss: 0.6123 - accuracy: 0.6929 - val_loss: 0.5474 - val_accuracy: 0.6984\n",
            "Epoch 3/10\n",
            "4/4 [==============================] - 1s 275ms/step - loss: 0.5515 - accuracy: 0.7480 - val_loss: 0.5144 - val_accuracy: 0.7778\n",
            "Epoch 4/10\n",
            "4/4 [==============================] - 1s 259ms/step - loss: 0.5101 - accuracy: 0.7874 - val_loss: 0.5070 - val_accuracy: 0.7778\n",
            "Epoch 5/10\n",
            "4/4 [==============================] - 1s 257ms/step - loss: 0.4837 - accuracy: 0.7795 - val_loss: 0.5007 - val_accuracy: 0.7857\n",
            "Epoch 6/10\n",
            "4/4 [==============================] - 1s 230ms/step - loss: 0.4530 - accuracy: 0.8031 - val_loss: 0.5017 - val_accuracy: 0.8016\n",
            "Epoch 7/10\n",
            "4/4 [==============================] - 1s 311ms/step - loss: 0.4089 - accuracy: 0.8346 - val_loss: 0.5026 - val_accuracy: 0.7698\n",
            "Epoch 8/10\n",
            "4/4 [==============================] - 1s 253ms/step - loss: 0.3795 - accuracy: 0.8425 - val_loss: 0.5201 - val_accuracy: 0.7698\n",
            "Epoch 9/10\n",
            "4/4 [==============================] - 1s 242ms/step - loss: 0.3998 - accuracy: 0.8425 - val_loss: 0.5345 - val_accuracy: 0.7619\n",
            "Epoch 10/10\n",
            "4/4 [==============================] - 1s 237ms/step - loss: 0.3173 - accuracy: 0.8583 - val_loss: 0.5292 - val_accuracy: 0.7302\n"
          ]
        }
      ],
      "source": [
        "tf.random.set_seed(SEED)\n",
        "\n",
        "model = Sequential([\n",
        "    Conv2D(filters=64,\n",
        "           kernel_size=3,\n",
        "           activation='relu'),\n",
        "    Conv2D(32,3,activation='relu'),\n",
        "    MaxPool2D(pool_size=2),\n",
        "    Conv2D(32,3,activation='relu'),\n",
        "    Conv2D(16,3,activation='relu'),\n",
        "    MaxPool2D(2, padding='same'),\n",
        "    Flatten(),\n",
        "    Dense(1, activation='sigmoid')\n",
        "])\n",
        "\n",
        "# Compile the model\n",
        "model.compile(loss=BinaryCrossentropy(),\n",
        "              optimizer=Adam(),\n",
        "              metrics=[\"accuracy\"])\n",
        "\n",
        "# Fit the model\n",
        "history = model.fit(train_data,\n",
        "                    epochs=10,\n",
        "                    steps_per_epoch=len(train_data),\n",
        "                    validation_data=test_data,\n",
        "                    validation_steps=len(test_data))"
      ]
    },
    {
      "cell_type": "markdown",
      "source": [
        "The code establishes a CNN with multiple convolutional layers and max pooling operations. After 10 epochs, the model achieves a training accuracy of approximately 85.83% and a validation accuracy of 73.02%. This suggests that while the model has learned patterns from the training data, there's room for optimization to improve performance on unseen data."
      ],
      "metadata": {
        "id": "o4P3vTGTczf6"
      },
      "id": "o4P3vTGTczf6"
    },
    {
      "cell_type": "markdown",
      "id": "62bf4918",
      "metadata": {
        "papermill": {
          "duration": 0.008146,
          "end_time": "2023-01-10T14:21:32.078275",
          "exception": false,
          "start_time": "2023-01-10T14:21:32.070129",
          "status": "completed"
        },
        "tags": [],
        "id": "62bf4918"
      },
      "source": [
        "## Evaluation"
      ]
    },
    {
      "cell_type": "code",
      "execution_count": null,
      "id": "e5532f69",
      "metadata": {
        "execution": {
          "iopub.execute_input": "2023-01-10T14:21:32.096311Z",
          "iopub.status.busy": "2023-01-10T14:21:32.095944Z",
          "iopub.status.idle": "2023-01-10T14:21:32.103355Z",
          "shell.execute_reply": "2023-01-10T14:21:32.102291Z"
        },
        "papermill": {
          "duration": 0.019405,
          "end_time": "2023-01-10T14:21:32.105946",
          "exception": false,
          "start_time": "2023-01-10T14:21:32.086541",
          "status": "completed"
        },
        "tags": [],
        "id": "e5532f69"
      },
      "outputs": [],
      "source": [
        "# Function to plot loss curves\n",
        "def plot_curves(history):\n",
        "\n",
        "    \"\"\"\n",
        "    Returns separate loss and accuracy curves\n",
        "    \"\"\"\n",
        "    import matplotlib.pyplot as plt\n",
        "\n",
        "    loss = history.history[\"loss\"]\n",
        "    val_loss = history.history[\"val_loss\"]\n",
        "\n",
        "    accuracy = history.history[\"accuracy\"]\n",
        "    val_accuracy = history.history[\"val_accuracy\"]\n",
        "\n",
        "    epochs = range(len(history.history[\"loss\"]))\n",
        "\n",
        "    plt.plot(epochs, loss, label=\"training_loss\")\n",
        "    plt.plot(epochs, val_loss, label=\"val_loss\")\n",
        "    plt.title(\"loss\")\n",
        "    plt.xlabel(\"epochs\")\n",
        "    plt.legend()\n",
        "\n",
        "    plt.figure()\n",
        "    plt.plot(epochs, accuracy, label=\"training_accuracy\")\n",
        "    plt.plot(epochs, val_accuracy, label=\"val_accuracy\")\n",
        "    plt.title(\"accuracy\")\n",
        "    plt.xlabel(\"epochs\")\n",
        "    plt.legend()"
      ]
    },
    {
      "cell_type": "code",
      "execution_count": null,
      "id": "9a4f4657",
      "metadata": {
        "execution": {
          "iopub.execute_input": "2023-01-10T14:21:32.124452Z",
          "iopub.status.busy": "2023-01-10T14:21:32.124146Z",
          "iopub.status.idle": "2023-01-10T14:21:32.518417Z",
          "shell.execute_reply": "2023-01-10T14:21:32.517176Z"
        },
        "papermill": {
          "duration": 0.405986,
          "end_time": "2023-01-10T14:21:32.520428",
          "exception": false,
          "start_time": "2023-01-10T14:21:32.114442",
          "status": "completed"
        },
        "tags": [],
        "id": "9a4f4657",
        "outputId": "9c6e0e58-2911-454e-ce86-586d21f5306d"
      },
      "outputs": [
        {
          "data": {
            "image/png": "[encoded data removed]",
            "text/plain": [
              "<Figure size 432x288 with 1 Axes>"
            ]
          },
          "metadata": {
            "needs_background": "light"
          },
          "output_type": "display_data"
        },
        {
          "data": {
            "image/png": "[encoded data removed]",
            "text/plain": [
              "<Figure size 432x288 with 1 Axes>"
            ]
          },
          "metadata": {
            "needs_background": "light"
          },
          "output_type": "display_data"
        }
      ],
      "source": [
        "plot_curves(history)"
      ]
    },
    {
      "cell_type": "markdown",
      "source": [
        "The accuracy plot showcases a steady increase in training accuracy over epochs, reaching just below 0.86. Meanwhile, the validation accuracy sees a peak around the 6th epoch and then slightly decreases, with its final value just above 0.73.\n",
        "\n",
        "The loss plot illustrates a decrease in training loss, reaching below 0.35. On the contrary, the validation loss decreases initially but starts to rise after the 6th epoch, suggesting the model might be overfitting to the training data. To enhance model performance, further optimizations, such as dropout layers or regularization techniques, could be considered."
      ],
      "metadata": {
        "id": "PRSaNFNcdCvJ"
      },
      "id": "PRSaNFNcdCvJ"
    },
    {
      "cell_type": "code",
      "execution_count": null,
      "id": "155217f7",
      "metadata": {
        "execution": {
          "iopub.execute_input": "2023-01-10T14:21:32.540533Z",
          "iopub.status.busy": "2023-01-10T14:21:32.539609Z",
          "iopub.status.idle": "2023-01-10T14:21:33.096251Z",
          "shell.execute_reply": "2023-01-10T14:21:33.094312Z"
        },
        "papermill": {
          "duration": 0.568987,
          "end_time": "2023-01-10T14:21:33.098578",
          "exception": false,
          "start_time": "2023-01-10T14:21:32.529591",
          "status": "completed"
        },
        "tags": [],
        "id": "155217f7",
        "outputId": "2250ad1b-51f2-470a-e441-a908024f5931"
      },
      "outputs": [
        {
          "name": "stdout",
          "output_type": "stream",
          "text": [
            "Accuracy on Evaluation: 73.02%\n",
            "Loss: 0.5292\n"
          ]
        }
      ],
      "source": [
        "result = model.evaluate(test_data, verbose=0)\n",
        "print(f\"Accuracy on Evaluation: {result[1]*100:.2f}%\\nLoss: {result[0]:.4f}\")"
      ]
    },
    {
      "cell_type": "markdown",
      "source": [
        "Upon evaluating the model on the test data, it achieved an accuracy of 73.02%. The loss was observed to be 0.5292. This evaluation is consistent with the values observed during the training process, suggesting that the model's performance is aligned across training and testing phases."
      ],
      "metadata": {
        "id": "n1JyJw0VdMH_"
      },
      "id": "n1JyJw0VdMH_"
    },
    {
      "cell_type": "markdown",
      "id": "dfac2673",
      "metadata": {
        "papermill": {
          "duration": 0.008714,
          "end_time": "2023-01-10T14:21:33.116730",
          "exception": false,
          "start_time": "2023-01-10T14:21:33.108016",
          "status": "completed"
        },
        "tags": [],
        "id": "dfac2673"
      },
      "source": [
        "# Transfer Learning with EfficientNetB0"
      ]
    },
    {
      "cell_type": "code",
      "execution_count": null,
      "id": "ae744d62",
      "metadata": {
        "execution": {
          "iopub.execute_input": "2023-01-10T14:21:33.136406Z",
          "iopub.status.busy": "2023-01-10T14:21:33.135540Z",
          "iopub.status.idle": "2023-01-10T14:22:04.431344Z",
          "shell.execute_reply": "2023-01-10T14:22:04.430357Z"
        },
        "papermill": {
          "duration": 31.307838,
          "end_time": "2023-01-10T14:22:04.433524",
          "exception": false,
          "start_time": "2023-01-10T14:21:33.125686",
          "status": "completed"
        },
        "tags": [],
        "id": "ae744d62",
        "outputId": "0beb301e-d8be-47a4-dead-d7cdfac9c6ed"
      },
      "outputs": [
        {
          "name": "stdout",
          "output_type": "stream",
          "text": [
            "Epoch 1/10\n",
            "4/4 [==============================] - 10s 694ms/step - loss: 0.6471 - accuracy: 0.6142 - val_loss: 0.6777 - val_accuracy: 0.5794\n",
            "Epoch 2/10\n",
            "4/4 [==============================] - 1s 366ms/step - loss: 0.5864 - accuracy: 0.6929 - val_loss: 0.6314 - val_accuracy: 0.6349\n",
            "Epoch 3/10\n",
            "4/4 [==============================] - 1s 274ms/step - loss: 0.5403 - accuracy: 0.7638 - val_loss: 0.5909 - val_accuracy: 0.7143\n",
            "Epoch 4/10\n",
            "4/4 [==============================] - 1s 258ms/step - loss: 0.5000 - accuracy: 0.7874 - val_loss: 0.5574 - val_accuracy: 0.7857\n",
            "Epoch 5/10\n",
            "4/4 [==============================] - 1s 297ms/step - loss: 0.4652 - accuracy: 0.8583 - val_loss: 0.5257 - val_accuracy: 0.8095\n",
            "Epoch 6/10\n",
            "4/4 [==============================] - 1s 253ms/step - loss: 0.4341 - accuracy: 0.8819 - val_loss: 0.4999 - val_accuracy: 0.8175\n",
            "Epoch 7/10\n",
            "4/4 [==============================] - 1s 280ms/step - loss: 0.4107 - accuracy: 0.8740 - val_loss: 0.4775 - val_accuracy: 0.8492\n",
            "Epoch 8/10\n",
            "4/4 [==============================] - 1s 302ms/step - loss: 0.3895 - accuracy: 0.8819 - val_loss: 0.4596 - val_accuracy: 0.8492\n",
            "Epoch 9/10\n",
            "4/4 [==============================] - 1s 265ms/step - loss: 0.3702 - accuracy: 0.8898 - val_loss: 0.4445 - val_accuracy: 0.8571\n",
            "Epoch 10/10\n",
            "4/4 [==============================] - 1s 247ms/step - loss: 0.3526 - accuracy: 0.9055 - val_loss: 0.4314 - val_accuracy: 0.8571\n"
          ]
        }
      ],
      "source": [
        "# EfficientNetB0 Feature Vector\n",
        "effnet_url = \"https://tfhub.dev/tensorflow/efficientnet/b0/feature-vector/1\"\n",
        "\n",
        "# Feature Layer\n",
        "effnet_layer = hub.KerasLayer(effnet_url,\n",
        "                              trainable=False,\n",
        "                              name=\"feature_extraction_layer\")\n",
        "\n",
        "# Create Sequential model\n",
        "effnet_model = Sequential([\n",
        "    effnet_layer,\n",
        "    Dense(1, activation=\"sigmoid\")\n",
        "])\n",
        "\n",
        "# Compile the model\n",
        "effnet_model.compile(loss=BinaryCrossentropy(),\n",
        "                     optimizer=Adam(),\n",
        "                     metrics=[\"accuracy\"])\n",
        "\n",
        "# Fit the model\n",
        "effnet_history = effnet_model.fit(train_data,\n",
        "                                  epochs=10,\n",
        "                                  steps_per_epoch=len(train_data),\n",
        "                                  validation_data=test_data,\n",
        "                                  validation_steps=len(test_data))"
      ]
    },
    {
      "cell_type": "markdown",
      "source": [
        "The model, enhanced with Transfer Learning using EfficientNetB0, displayed significant improvement over the epochs. Starting with an accuracy of 61.42% in the first epoch, it reached an impressive 90.55% by the tenth epoch for the training data. Moreover, the validation accuracy showed a consistent rise, reaching 85.71% by the end of the tenth epoch. This suggests that utilizing EfficientNetB0 as a feature extractor effectively boosted the model's performance on the given dataset."
      ],
      "metadata": {
        "id": "-kG0nLbsMXU9"
      },
      "id": "-kG0nLbsMXU9"
    },
    {
      "cell_type": "code",
      "execution_count": null,
      "id": "e67e72f5",
      "metadata": {
        "execution": {
          "iopub.execute_input": "2023-01-10T14:22:04.461176Z",
          "iopub.status.busy": "2023-01-10T14:22:04.460814Z",
          "iopub.status.idle": "2023-01-10T14:22:04.888505Z",
          "shell.execute_reply": "2023-01-10T14:22:04.886882Z"
        },
        "papermill": {
          "duration": 0.444308,
          "end_time": "2023-01-10T14:22:04.890798",
          "exception": false,
          "start_time": "2023-01-10T14:22:04.446490",
          "status": "completed"
        },
        "tags": [],
        "id": "e67e72f5",
        "outputId": "f2e9cc56-49e6-4c50-ed78-c844ff9a4ceb"
      },
      "outputs": [
        {
          "data": {
            "image/png": "[encoded data removed]",
            "text/plain": [
              "<Figure size 432x288 with 1 Axes>"
            ]
          },
          "metadata": {
            "needs_background": "light"
          },
          "output_type": "display_data"
        },
        {
          "data": {
            "image/png": "[encoded data removed]",
            "text/plain": [
              "<Figure size 432x288 with 1 Axes>"
            ]
          },
          "metadata": {
            "needs_background": "light"
          },
          "output_type": "display_data"
        }
      ],
      "source": [
        "plot_curves(effnet_history)"
      ]
    },
    {
      "cell_type": "markdown",
      "source": [
        "1. Accuracy: The training accuracy steadily increased over the epochs and neared 90% by the tenth epoch. The validation accuracy also saw a notable rise, indicating that the model's predictions are becoming increasingly accurate on unseen data. This gap between the training and validation accuracy is not very significant, implying that there isn't substantial overfitting.\n",
        "\n",
        "2. Loss: Both the training and validation loss consistently decreased over the epochs. This suggests that the model's predictions are progressively aligning with the true labels, and it's making fewer errors. The validation loss closely follows the training loss, again indicating a balanced model without significant overfitting or underfitting issues.\n",
        "\n",
        "In conclusion, using EfficientNetB0 for feature extraction has given the model robust performance metrics on both the training and validation datasets. The displayed trends in the graphs further confirm the good performance of the model as described in the earlier epochs' results.\n"
      ],
      "metadata": {
        "id": "3Ra4kHCxMt7D"
      },
      "id": "3Ra4kHCxMt7D"
    },
    {
      "cell_type": "code",
      "execution_count": null,
      "id": "2e9f92fb",
      "metadata": {
        "execution": {
          "iopub.execute_input": "2023-01-10T14:22:04.918416Z",
          "iopub.status.busy": "2023-01-10T14:22:04.917501Z",
          "iopub.status.idle": "2023-01-10T14:22:05.444775Z",
          "shell.execute_reply": "2023-01-10T14:22:05.443675Z"
        },
        "papermill": {
          "duration": 0.543528,
          "end_time": "2023-01-10T14:22:05.447323",
          "exception": false,
          "start_time": "2023-01-10T14:22:04.903795",
          "status": "completed"
        },
        "tags": [],
        "id": "2e9f92fb",
        "outputId": "9c443668-ac62-4227-891c-bfe4923330c2"
      },
      "outputs": [
        {
          "name": "stdout",
          "output_type": "stream",
          "text": [
            "Accuracy on Evaluation: 85.71%\n",
            "Loss: 0.4314\n"
          ]
        }
      ],
      "source": [
        "result = effnet_model.evaluate(test_data, verbose=0)\n",
        "print(f\"Accuracy on Evaluation: {result[1]*100:.2f}%\\nLoss: {result[0]:.4f}\")"
      ]
    },
    {
      "cell_type": "markdown",
      "source": [
        "The evaluation metrics for the EfficientNetB0-enhanced model on the test dataset are as follows:\n",
        "\n",
        "1. Accuracy: 85.71%\n",
        "2. Loss: 0.4314\n",
        "\n",
        "These results indicate that the model has generalized well to the test data. An accuracy of 85.71% shows that the model correctly classifies a significant majority of the test samples. The loss value further confirms the model's effectiveness in its predictions. Overall, the EfficientNetB0 model seems to offer a robust performance on this dataset."
      ],
      "metadata": {
        "id": "pFwJ6sh4NB8g"
      },
      "id": "pFwJ6sh4NB8g"
    },
    {
      "cell_type": "markdown",
      "id": "63d5a50f",
      "metadata": {
        "papermill": {
          "duration": 0.014338,
          "end_time": "2023-01-10T14:22:05.477269",
          "exception": false,
          "start_time": "2023-01-10T14:22:05.462931",
          "status": "completed"
        },
        "tags": [],
        "id": "63d5a50f"
      },
      "source": [
        "**Conclusion:**\n",
        "\n",
        "The project commenced with an exploration of Convolutional Neural Networks (CNNs), aiming to classify images. While the initial CNN model demonstrated promise during its training phase, it showcased limitations when introduced to a train-test split. The gap in performance between the training and validation stages underscored a potential overfitting issue, a common challenge with deep learning models.\n",
        "\n",
        "\n",
        "\n",
        "Recognizing the limitations of the initial CNN, the project pivoted towards transfer learning, leveraging the prowess of the EfficientNetB0 model. Even though the transfer learning model was trained on merely half of the dataset, its performance was notably superior, culminating in an impressive 85.71% accuracy on the evaluation dataset with a loss of 0.4314. This reinforced the power of transfer learning, especially when dealing with limited data or seeking enhanced performance.\n",
        "\n",
        "\n",
        "\n",
        "To encapsulate, while the basic CNN model provided foundational insights, the project's success was largely attributed to the adoption of transfer learning. The leap in performance using EfficientNetB0 highlights the importance of leveraging pre-trained architectures, especially in real-world scenarios where optimal accuracy is paramount. In practical applications, such a model could be pivotal in various sectors, from healthcare diagnostics to automated surveillance, reiterating the potential of deep learning in contemporary challenges."
      ]
    }
  ],
  "metadata": {
    "kernelspec": {
      "display_name": "Python 3",
      "language": "python",
      "name": "python3"
    },
    "language_info": {
      "codemirror_mode": {
        "name": "ipython",
        "version": 3
      },
      "file_extension": ".py",
      "mimetype": "text/x-python",
      "name": "python",
      "nbconvert_exporter": "python",
      "pygments_lexer": "ipython3",
      "version": "3.7.12"
    },
    "papermill": {
      "default_parameters": {},
      "duration": 73.302161,
      "end_time": "2023-01-10T14:22:09.100177",
      "environment_variables": {},
      "exception": null,
      "input_path": "__notebook__.ipynb",
      "output_path": "__notebook__.ipynb",
      "parameters": {},
      "start_time": "2023-01-10T14:20:55.798016",
      "version": "2.3.4"
    },
    "colab": {
      "provenance": []
    }
  },
  "nbformat": 4,
  "nbformat_minor": 5
}